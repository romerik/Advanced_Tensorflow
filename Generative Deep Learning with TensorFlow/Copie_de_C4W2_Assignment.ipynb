{
  "nbformat": 4,
  "nbformat_minor": 0,
  "metadata": {
    "accelerator": "GPU",
    "kernelspec": {
      "display_name": "Python 3",
      "language": "python",
      "name": "python3"
    },
    "language_info": {
      "codemirror_mode": {
        "name": "ipython",
        "version": 3
      },
      "file_extension": ".py",
      "mimetype": "text/x-python",
      "name": "python",
      "nbconvert_exporter": "python",
      "pygments_lexer": "ipython3",
      "version": "3.7.4"
    },
    "colab": {
      "name": "Copie de C4W2_Assignment.ipynb",
      "provenance": [],
      "collapsed_sections": []
    }
  },
  "cells": [
    {
      "cell_type": "markdown",
      "metadata": {
        "id": "L6S2HVAkSt0p"
      },
      "source": [
        "# Week 2 Assignment: CIFAR-10 Autoencoder\n",
        "\n",
        "For this week, you will create a convolutional autoencoder for the [CIFAR10](https://www.tensorflow.org/datasets/catalog/cifar10) dataset. You are free to choose the architecture of your autoencoder provided that the output image has the same dimensions as the input image.\n",
        "\n",
        "After training, your model should meet loss and accuracy requirements when evaluated with the test dataset. You will then download the model and upload it in the classroom for grading. \n",
        "\n",
        "Let's begin!"
      ]
    },
    {
      "cell_type": "markdown",
      "metadata": {
        "id": "6r4iPr2jyisR"
      },
      "source": [
        "***Important:*** *This colab notebook has read-only access so you won't be able to save your changes. If you want to save your work periodically, please click `File -> Save a Copy in Drive` to create a copy in your account, then work from there.*  "
      ]
    },
    {
      "cell_type": "markdown",
      "metadata": {
        "id": "g1mzy2J8_nc1"
      },
      "source": [
        "## Imports"
      ]
    },
    {
      "cell_type": "code",
      "metadata": {
        "id": "3EXwoz-KHtWO"
      },
      "source": [
        "try:\n",
        "  # %tensorflow_version only exists in Colab.\n",
        "  %tensorflow_version 2.x\n",
        "except Exception:\n",
        "  pass\n",
        "\n",
        "import tensorflow as tf\n",
        "import tensorflow_datasets as tfds\n",
        "\n",
        "from keras.models import Sequential"
      ],
      "execution_count": 1,
      "outputs": []
    },
    {
      "cell_type": "markdown",
      "metadata": {
        "id": "n2Gs6Lyc_pd0"
      },
      "source": [
        "## Load and prepare the dataset\n",
        "\n",
        "The [CIFAR 10](https://www.tensorflow.org/datasets/catalog/cifar10) dataset already has train and test splits and you can use those in this exercise. Here are the general steps:\n",
        "\n",
        "* Load the train/test split from TFDS. Set `as_supervised` to `True` so it will be convenient to use the preprocessing function we provided.\n",
        "* Normalize the pixel values to the range [0,1], then return `image, image` pairs for training instead of `image, label`. This is because you will check if the output image is successfully regenerated after going through your autoencoder.\n",
        "* Shuffle and batch the train set. Batch the test set (no need to shuffle).\n"
      ]
    },
    {
      "cell_type": "code",
      "metadata": {
        "id": "t9F7YsCNIKSA"
      },
      "source": [
        "# preprocessing function\n",
        "def map_image(image, label):\n",
        "  image = tf.cast(image, dtype=tf.float32)\n",
        "  image = image / 255.0\n",
        "\n",
        "  return image, image # dataset label is not used. replaced with the same image input.\n",
        "\n",
        "# parameters\n",
        "BATCH_SIZE = 128\n",
        "SHUFFLE_BUFFER_SIZE = 1024\n",
        "\n",
        "\n",
        "### START CODE HERE (Replace instances of `None` with your code) ###\n",
        "\n",
        "# use tfds.load() to fetch the 'train' split of CIFAR-10\n",
        "train_dataset = tfds.load('cifar10', split='train', as_supervised = True)\n",
        "\n",
        "# preprocess the dataset with the `map_image()` function above\n",
        "train_dataset = train_dataset.map(map_image)\n",
        "\n",
        "# shuffle and batch the dataset\n",
        "train_dataset = train_dataset.shuffle(SHUFFLE_BUFFER_SIZE).batch(BATCH_SIZE).repeat(1)\n",
        "\n",
        "\n",
        "# use tfds.load() to fetch the 'test' split of CIFAR-10\n",
        "test_dataset = tfds.load('cifar10', split='test', as_supervised = True)\n",
        "\n",
        "# preprocess the dataset with the `map_image()` function above\n",
        "test_dataset = test_dataset.map(map_image)\n",
        "\n",
        "# batch the dataset\n",
        "test_dataset = test_dataset.batch(BATCH_SIZE).repeat(1)\n",
        "\n",
        "### END CODE HERE ###"
      ],
      "execution_count": 30,
      "outputs": []
    },
    {
      "cell_type": "markdown",
      "metadata": {
        "id": "rPyOgGJs_t98"
      },
      "source": [
        "## Build the Model\n",
        "\n",
        "Create the autoencoder model. As shown in the lectures, you will want to downsample the image in the encoder layers then upsample it in the decoder path. Note that the output layer should be the same dimensions as the original image. Your input images will have the shape `(32, 32, 3)`. If you deviate from this, your model may not be recognized by the grader and may fail. \n",
        "\n",
        "We included a few hints to use the Sequential API below but feel free to remove it and use the Functional API just like in the ungraded labs if you're more comfortable with it. Another reason to use the latter is if you want to visualize the encoder output. As shown in the ungraded labs, it will be easier to indicate multiple outputs with the Functional API. That is not required for this assignment though so you can just stack layers sequentially if you want a simpler solution."
      ]
    },
    {
      "cell_type": "code",
      "metadata": {
        "id": "Wr-Bok3lRgA3",
        "colab": {
          "base_uri": "https://localhost:8080/"
        },
        "outputId": "712e56b0-58cf-4fad-d6d2-d8d143bb18bd"
      },
      "source": [
        "# suggested layers to use. feel free to add or remove as you see fit.\n",
        "from keras.layers import Conv2D, UpSampling2D,MaxPooling2D\n",
        "\n",
        "# use the Sequential API (you can remove if you want to use the Functional API)\n",
        "model = Sequential()\n",
        "\n",
        "### START CODE HERE ###\n",
        "# use `model.add()` to add layers (if using the Sequential API)\n",
        "model.add(Conv2D(filters=64, kernel_size=(3,3),input_shape=(32, 32, 3,), activation='relu', padding='same'))\n",
        "model.add(MaxPooling2D(pool_size=(2,2)))\n",
        "model.add(Conv2D(filters=128, kernel_size=(3,3), activation='relu', padding='same'))\n",
        "model.add(MaxPooling2D(pool_size=(2,2)))\n",
        "model.add(Conv2D(filters=256, kernel_size=(3,3), activation='relu', padding='same'))\n",
        "model.add(Conv2D(filters=128, kernel_size=(3,3), activation='relu', padding='same'))\n",
        "model.add(UpSampling2D(size=(2,2)))\n",
        "model.add(Conv2D(filters=64, kernel_size=(3,3), activation='relu', padding='same'))\n",
        "model.add(UpSampling2D(size=(2,2)))\n",
        "model.add(Conv2D(filters=3, kernel_size=(3,3), activation='sigmoid', padding='same'))\n",
        "\n",
        "\n",
        "\n",
        "\n",
        "\n",
        "\n",
        "\n",
        "### END CODE HERE ###\n",
        "\n",
        "model.summary()"
      ],
      "execution_count": 34,
      "outputs": [
        {
          "output_type": "stream",
          "name": "stdout",
          "text": [
            "Model: \"sequential_4\"\n",
            "_________________________________________________________________\n",
            " Layer (type)                Output Shape              Param #   \n",
            "=================================================================\n",
            " conv2d_44 (Conv2D)          (None, 32, 32, 64)        1792      \n",
            "                                                                 \n",
            " max_pooling2d_15 (MaxPoolin  (None, 16, 16, 64)       0         \n",
            " g2D)                                                            \n",
            "                                                                 \n",
            " conv2d_45 (Conv2D)          (None, 16, 16, 128)       73856     \n",
            "                                                                 \n",
            " max_pooling2d_16 (MaxPoolin  (None, 8, 8, 128)        0         \n",
            " g2D)                                                            \n",
            "                                                                 \n",
            " conv2d_46 (Conv2D)          (None, 8, 8, 256)         295168    \n",
            "                                                                 \n",
            " conv2d_47 (Conv2D)          (None, 8, 8, 128)         295040    \n",
            "                                                                 \n",
            " up_sampling2d_15 (UpSamplin  (None, 16, 16, 128)      0         \n",
            " g2D)                                                            \n",
            "                                                                 \n",
            " conv2d_48 (Conv2D)          (None, 16, 16, 64)        73792     \n",
            "                                                                 \n",
            " up_sampling2d_16 (UpSamplin  (None, 32, 32, 64)       0         \n",
            " g2D)                                                            \n",
            "                                                                 \n",
            " conv2d_49 (Conv2D)          (None, 32, 32, 3)         1731      \n",
            "                                                                 \n",
            "=================================================================\n",
            "Total params: 741,379\n",
            "Trainable params: 741,379\n",
            "Non-trainable params: 0\n",
            "_________________________________________________________________\n"
          ]
        }
      ]
    },
    {
      "cell_type": "markdown",
      "metadata": {
        "id": "jRWTAijKEVUC"
      },
      "source": [
        "## Configure training parameters\n",
        "\n",
        "We have already provided the optimizer, metrics, and loss in the code below."
      ]
    },
    {
      "cell_type": "code",
      "metadata": {
        "id": "iHIeD9eDETSk"
      },
      "source": [
        "# Please do not change the model.compile() parameters\n",
        "model.compile(optimizer='adam', metrics=['accuracy'], loss='mean_squared_error')"
      ],
      "execution_count": 35,
      "outputs": []
    },
    {
      "cell_type": "markdown",
      "metadata": {
        "id": "tLQPhm1W_8dC"
      },
      "source": [
        "## Training\n",
        "\n",
        "You can now use [model.fit()](https://keras.io/api/models/model_training_apis/#fit-method) to train your model. You will pass in the `train_dataset` and you are free to configure the other parameters. As with any training, you should see the loss generally going down and the accuracy going up with each epoch. If not, please revisit the previous sections to find possible bugs.\n",
        "\n",
        "*Note: If you get a `dataset length is infinite` error. Please check how you defined `train_dataset`. You might have included a [method that repeats the dataset indefinitely](https://www.tensorflow.org/api_docs/python/tf/data/Dataset#repeat).*"
      ]
    },
    {
      "cell_type": "code",
      "metadata": {
        "id": "AMBimOnsRvg0",
        "colab": {
          "base_uri": "https://localhost:8080/"
        },
        "outputId": "02791f15-0c7f-4654-9204-34e167450de8"
      },
      "source": [
        "# parameters (feel free to change this)\n",
        "train_steps = len(train_dataset) // BATCH_SIZE \n",
        "val_steps = len(test_dataset) // BATCH_SIZE\n",
        "\n",
        "### START CODE HERE ###\n",
        "model.fit(train_dataset, steps_per_epoch=train_steps, validation_data=test_dataset, validation_steps=val_steps, epochs=50)\n",
        "### END CODE HERE ###"
      ],
      "execution_count": 37,
      "outputs": [
        {
          "output_type": "stream",
          "name": "stdout",
          "text": [
            "Epoch 1/50\n",
            "3/3 [==============================] - 1s 107ms/step - loss: 0.0049 - accuracy: 0.7897\n",
            "Epoch 2/50\n",
            "3/3 [==============================] - 0s 100ms/step - loss: 0.0053 - accuracy: 0.7918\n",
            "Epoch 3/50\n",
            "3/3 [==============================] - 0s 100ms/step - loss: 0.0051 - accuracy: 0.7918\n",
            "Epoch 4/50\n",
            "3/3 [==============================] - 0s 102ms/step - loss: 0.0049 - accuracy: 0.8019\n",
            "Epoch 5/50\n",
            "3/3 [==============================] - 0s 97ms/step - loss: 0.0050 - accuracy: 0.7978\n",
            "Epoch 6/50\n",
            "3/3 [==============================] - 0s 99ms/step - loss: 0.0048 - accuracy: 0.7924\n",
            "Epoch 7/50\n",
            "3/3 [==============================] - 0s 95ms/step - loss: 0.0047 - accuracy: 0.8070\n",
            "Epoch 8/50\n",
            "3/3 [==============================] - 0s 97ms/step - loss: 0.0047 - accuracy: 0.8044\n",
            "Epoch 9/50\n",
            "3/3 [==============================] - 0s 92ms/step - loss: 0.0053 - accuracy: 0.7905\n",
            "Epoch 10/50\n",
            "3/3 [==============================] - 0s 94ms/step - loss: 0.0074 - accuracy: 0.7922\n",
            "Epoch 11/50\n",
            "3/3 [==============================] - 0s 88ms/step - loss: 0.0057 - accuracy: 0.7972\n",
            "Epoch 12/50\n",
            "3/3 [==============================] - 0s 95ms/step - loss: 0.0055 - accuracy: 0.7872\n",
            "Epoch 13/50\n",
            "3/3 [==============================] - 0s 93ms/step - loss: 0.0055 - accuracy: 0.7945\n",
            "Epoch 14/50\n",
            "3/3 [==============================] - 0s 92ms/step - loss: 0.0056 - accuracy: 0.7781\n",
            "Epoch 15/50\n",
            "3/3 [==============================] - 0s 92ms/step - loss: 0.0051 - accuracy: 0.7747\n",
            "Epoch 16/50\n",
            "3/3 [==============================] - 0s 94ms/step - loss: 0.0052 - accuracy: 0.7874\n",
            "Epoch 17/50\n",
            "3/3 [==============================] - 0s 94ms/step - loss: 0.0050 - accuracy: 0.7917\n",
            "Epoch 18/50\n",
            "3/3 [==============================] - 0s 94ms/step - loss: 0.0046 - accuracy: 0.7745\n",
            "Epoch 19/50\n",
            "3/3 [==============================] - 0s 88ms/step - loss: 0.0048 - accuracy: 0.7775\n",
            "Epoch 20/50\n",
            "3/3 [==============================] - 0s 88ms/step - loss: 0.0048 - accuracy: 0.7868\n",
            "Epoch 21/50\n",
            "3/3 [==============================] - 0s 88ms/step - loss: 0.0048 - accuracy: 0.7940\n",
            "Epoch 22/50\n",
            "3/3 [==============================] - 0s 99ms/step - loss: 0.0047 - accuracy: 0.7962\n",
            "Epoch 23/50\n",
            "3/3 [==============================] - 0s 87ms/step - loss: 0.0047 - accuracy: 0.8043\n",
            "Epoch 24/50\n",
            "3/3 [==============================] - 0s 88ms/step - loss: 0.0042 - accuracy: 0.7953\n",
            "Epoch 25/50\n",
            "3/3 [==============================] - 0s 87ms/step - loss: 0.0046 - accuracy: 0.8082\n",
            "Epoch 26/50\n",
            "3/3 [==============================] - 0s 88ms/step - loss: 0.0044 - accuracy: 0.8097\n",
            "Epoch 27/50\n",
            "3/3 [==============================] - 0s 92ms/step - loss: 0.0047 - accuracy: 0.8005\n",
            "Epoch 28/50\n",
            "3/3 [==============================] - 0s 90ms/step - loss: 0.0046 - accuracy: 0.8011\n",
            "Epoch 29/50\n",
            "3/3 [==============================] - 0s 90ms/step - loss: 0.0054 - accuracy: 0.7949\n",
            "Epoch 30/50\n",
            "3/3 [==============================] - 0s 87ms/step - loss: 0.0052 - accuracy: 0.8073\n",
            "Epoch 31/50\n",
            "3/3 [==============================] - 0s 85ms/step - loss: 0.0048 - accuracy: 0.7945\n",
            "Epoch 32/50\n",
            "3/3 [==============================] - 0s 85ms/step - loss: 0.0046 - accuracy: 0.7952\n",
            "Epoch 33/50\n",
            "3/3 [==============================] - 0s 85ms/step - loss: 0.0047 - accuracy: 0.7891\n",
            "Epoch 34/50\n",
            "3/3 [==============================] - 0s 82ms/step - loss: 0.0045 - accuracy: 0.7884\n",
            "Epoch 35/50\n",
            "3/3 [==============================] - 0s 91ms/step - loss: 0.0044 - accuracy: 0.8139\n",
            "Epoch 36/50\n",
            "3/3 [==============================] - 0s 91ms/step - loss: 0.0044 - accuracy: 0.8061\n",
            "Epoch 37/50\n",
            "3/3 [==============================] - 0s 85ms/step - loss: 0.0046 - accuracy: 0.7913\n",
            "Epoch 38/50\n",
            "3/3 [==============================] - 0s 85ms/step - loss: 0.0045 - accuracy: 0.8045\n",
            "Epoch 39/50\n",
            "3/3 [==============================] - 0s 88ms/step - loss: 0.0042 - accuracy: 0.8126\n",
            "Epoch 40/50\n",
            "3/3 [==============================] - 0s 90ms/step - loss: 0.0043 - accuracy: 0.7957\n",
            "Epoch 41/50\n",
            "3/3 [==============================] - 0s 86ms/step - loss: 0.0044 - accuracy: 0.8028\n",
            "Epoch 42/50\n",
            "3/3 [==============================] - 0s 85ms/step - loss: 0.0044 - accuracy: 0.8171\n",
            "Epoch 43/50\n",
            "3/3 [==============================] - 0s 82ms/step - loss: 0.0043 - accuracy: 0.8126\n",
            "Epoch 44/50\n",
            "3/3 [==============================] - 0s 90ms/step - loss: 0.0043 - accuracy: 0.8097\n",
            "Epoch 45/50\n",
            "3/3 [==============================] - 0s 86ms/step - loss: 0.0042 - accuracy: 0.8111\n",
            "Epoch 46/50\n",
            "3/3 [==============================] - 0s 84ms/step - loss: 0.0043 - accuracy: 0.7995\n",
            "Epoch 47/50\n",
            "3/3 [==============================] - 0s 84ms/step - loss: 0.0044 - accuracy: 0.8037\n",
            "Epoch 48/50\n",
            "3/3 [==============================] - 0s 86ms/step - loss: 0.0047 - accuracy: 0.8192\n",
            "Epoch 49/50\n",
            "3/3 [==============================] - 0s 84ms/step - loss: 0.0048 - accuracy: 0.8051\n",
            "Epoch 50/50\n",
            "3/3 [==============================] - 0s 88ms/step - loss: 0.0044 - accuracy: 0.8010\n"
          ]
        },
        {
          "output_type": "execute_result",
          "data": {
            "text/plain": [
              "<keras.callbacks.History at 0x7fe96c66ba90>"
            ]
          },
          "metadata": {},
          "execution_count": 37
        }
      ]
    },
    {
      "cell_type": "markdown",
      "metadata": {
        "id": "PT2l1c-SAaF4"
      },
      "source": [
        "## Model evaluation\n",
        "\n",
        "You can use this code to test your model locally before uploading to the grader. To pass, your model needs to satisfy these two requirements:\n",
        "\n",
        "* loss must be less than 0.01 \n",
        "* accuracy must be greater than 0.6"
      ]
    },
    {
      "cell_type": "code",
      "metadata": {
        "id": "vFncgqahSQhA",
        "colab": {
          "base_uri": "https://localhost:8080/"
        },
        "outputId": "cbc0351b-bc4c-4120-9980-27c3433ef89c"
      },
      "source": [
        "result = model.evaluate(test_dataset, steps=10)"
      ],
      "execution_count": 38,
      "outputs": [
        {
          "output_type": "stream",
          "name": "stdout",
          "text": [
            "10/10 [==============================] - 1s 37ms/step - loss: 0.0044 - accuracy: 0.8080\n"
          ]
        }
      ]
    },
    {
      "cell_type": "markdown",
      "metadata": {
        "id": "di6VOHGwIsVM"
      },
      "source": [
        "If you did some visualization like in the ungraded labs, then you might see something like the gallery below. This part is not required."
      ]
    },
    {
      "cell_type": "markdown",
      "metadata": {
        "id": "wmpI4skkIA5L"
      },
      "source": [
        "<img src=\"https://drive.google.com/uc?export=view&id=12Fy-guiP-3tTPfc9IV2nHhqLvs7LwRo6\" width=\"75%\" height=\"75%\"/>"
      ]
    },
    {
      "cell_type": "markdown",
      "metadata": {
        "id": "uaRSkQPNAPT0"
      },
      "source": [
        "## Save your model\n",
        "\n",
        "Once you are satisfied with the results, you can now save your model. Please download it from the Files window on the left and go back to the Submission portal in Coursera for grading."
      ]
    },
    {
      "cell_type": "code",
      "metadata": {
        "id": "pLFpLP-c7rDR"
      },
      "source": [
        "model.save('mymodel.h5')"
      ],
      "execution_count": 39,
      "outputs": []
    },
    {
      "cell_type": "markdown",
      "metadata": {
        "id": "QArMiXJTDxDe"
      },
      "source": [
        "**Congratulations on completing this week's assignment!**"
      ]
    }
  ]
}
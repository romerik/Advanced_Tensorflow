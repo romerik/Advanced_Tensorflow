{
  "nbformat": 4,
  "nbformat_minor": 0,
  "metadata": {
    "accelerator": "GPU",
    "colab": {
      "name": "Copie de C3_W2_Lab_1_Simple_Object_Detection.ipynb",
      "provenance": [],
      "collapsed_sections": []
    },
    "kernelspec": {
      "display_name": "Python 3",
      "language": "python",
      "name": "python3"
    },
    "language_info": {
      "codemirror_mode": {
        "name": "ipython",
        "version": 3
      },
      "file_extension": ".py",
      "mimetype": "text/x-python",
      "name": "python",
      "nbconvert_exporter": "python",
      "pygments_lexer": "ipython3",
      "version": "3.7.4"
    }
  },
  "cells": [
    {
      "cell_type": "markdown",
      "metadata": {
        "id": "mmANPR2jhCR6"
      },
      "source": [
        "# Simple Object Detection in Tensorflow\n",
        "\n",
        "This lab will walk you through how to use object detection models available in [Tensorflow Hub](https://www.tensorflow.org/hub). In the following sections, you will:\n",
        "\n",
        "* explore the Tensorflow Hub for object detection models\n",
        "* load the models in your workspace\n",
        "* preprocess an image for inference \n",
        "* run inference on the models and inspect the output\n",
        "\n",
        "Let's get started!"
      ]
    },
    {
      "cell_type": "markdown",
      "metadata": {
        "id": "8DkMLuGDhCR6"
      },
      "source": [
        "## Imports"
      ]
    },
    {
      "cell_type": "code",
      "metadata": {
        "id": "OEoRKdmByrb0"
      },
      "source": [
        "import tensorflow as tf\n",
        "import tensorflow_hub as hub\n",
        "from PIL import Image\n",
        "from PIL import ImageOps\n",
        "import tempfile\n",
        "from six.moves.urllib.request import urlopen\n",
        "from six import BytesIO"
      ],
      "execution_count": 1,
      "outputs": []
    },
    {
      "cell_type": "markdown",
      "metadata": {
        "id": "nb8MBgTOhCR6"
      },
      "source": [
        "### Download the model from Tensorflow Hub\n",
        "\n",
        "Tensorflow Hub is a repository of trained machine learning models which you can reuse in your own projects. \n",
        "- You can see the domains covered [here](https://tfhub.dev/) and its subcategories. \n",
        "- For this lab, you will want to look at the [image object detection subcategory](https://tfhub.dev/s?module-type=image-object-detection). \n",
        "- You can select a model to see more information about it and copy the URL so you can download it to your workspace. \n",
        "- We selected a [inception resnet version 2](https://tfhub.dev/google/faster_rcnn/openimages_v4/inception_resnet_v2/1)\n",
        "- You can also modify this following cell to choose the other model that we selected, [ssd mobilenet version 2](https://tfhub.dev/tensorflow/ssd_mobilenet_v2/2)"
      ]
    },
    {
      "cell_type": "code",
      "metadata": {
        "id": "C9pCzz4uy20U"
      },
      "source": [
        "# you can switch the commented lines here to pick the other model\n",
        "\n",
        "# inception resnet version 2\n",
        "module_handle = \"https://tfhub.dev/google/faster_rcnn/openimages_v4/inception_resnet_v2/1\"\n",
        "\n",
        "# You can choose ssd mobilenet version 2 instead and compare the results\n",
        "#module_handle = \"https://tfhub.dev/google/openimages_v4/ssd/mobilenet_v2/1\""
      ],
      "execution_count": 2,
      "outputs": []
    },
    {
      "cell_type": "markdown",
      "metadata": {
        "id": "W3trj5FbhCR6"
      },
      "source": [
        "#### Load the model\n",
        "\n",
        "Next, you'll load the model specified by the `module_handle`.\n",
        "- This will take a few minutes to load the model."
      ]
    },
    {
      "cell_type": "code",
      "metadata": {
        "id": "0WHkGDHfhCR6",
        "colab": {
          "base_uri": "https://localhost:8080/"
        },
        "outputId": "f7a22f43-4e2b-4070-8e1d-9a722af1aaab"
      },
      "source": [
        "model = hub.load(module_handle)"
      ],
      "execution_count": 3,
      "outputs": [
        {
          "output_type": "stream",
          "name": "stdout",
          "text": [
            "INFO:tensorflow:Saver not created because there are no variables in the graph to restore\n"
          ]
        },
        {
          "output_type": "stream",
          "name": "stderr",
          "text": [
            "INFO:tensorflow:Saver not created because there are no variables in the graph to restore\n"
          ]
        }
      ]
    },
    {
      "cell_type": "markdown",
      "metadata": {
        "id": "1Ey0FpHGhCR6"
      },
      "source": [
        "#### Choose the default signature\n",
        "\n",
        "Some models in the Tensorflow hub can be used for different tasks. So each model's documentation should show what *signature* to use when running the model. \n",
        "- If you want to see if a model has more than one signature then you can do something like `print(hub.load(module_handle).signatures.keys())`. In your case, the models you will be using only have the `default` signature so you don't have to worry about other types."
      ]
    },
    {
      "cell_type": "code",
      "metadata": {
        "id": "X1BU7AGthCR6",
        "colab": {
          "base_uri": "https://localhost:8080/"
        },
        "outputId": "11ff8aea-925d-447c-dccf-401175e83912"
      },
      "source": [
        "# take a look at the available signatures for this particular model\n",
        "model.signatures.keys()"
      ],
      "execution_count": 4,
      "outputs": [
        {
          "output_type": "execute_result",
          "data": {
            "text/plain": [
              "KeysView(_SignatureMap({'default': <ConcreteFunction pruned(images) at 0x7F37CF900810>}))"
            ]
          },
          "metadata": {},
          "execution_count": 4
        }
      ]
    },
    {
      "cell_type": "markdown",
      "metadata": {
        "id": "nfc9ax9hhCR6"
      },
      "source": [
        "Please choose the 'default' signature for your object detector.\n",
        "- For object detection models, its 'default' signature will accept a batch of image tensors and output a dictionary describing the objects detected, which is what you'll want here."
      ]
    },
    {
      "cell_type": "code",
      "metadata": {
        "id": "pzwR5zE_hCR7"
      },
      "source": [
        "detector = model.signatures['default']"
      ],
      "execution_count": 5,
      "outputs": []
    },
    {
      "cell_type": "markdown",
      "metadata": {
        "id": "Wvb-3r3thCR7"
      },
      "source": [
        "### download_and_resize_image\n",
        "\n",
        "This function downloads an image specified by a given \"url\", pre-processes it, and then saves it to disk."
      ]
    },
    {
      "cell_type": "code",
      "metadata": {
        "id": "Ucsxak_qhCR7"
      },
      "source": [
        "def download_and_resize_image(url, new_width=256, new_height=256):\n",
        "    '''\n",
        "    Fetches an image online, resizes it and saves it locally.\n",
        "    \n",
        "    Args:\n",
        "        url (string) -- link to the image\n",
        "        new_width (int) -- size in pixels used for resizing the width of the image\n",
        "        new_height (int) -- size in pixels used for resizing the length of the image\n",
        "        \n",
        "    Returns:\n",
        "        (string) -- path to the saved image\n",
        "    '''\n",
        "    \n",
        "    \n",
        "    # create a temporary file ending with \".jpg\"\n",
        "    _, filename = tempfile.mkstemp(suffix=\".jpg\")\n",
        "    \n",
        "    # opens the given URL\n",
        "    response = urlopen(url)\n",
        "    \n",
        "    # reads the image fetched from the URL\n",
        "    image_data = response.read()\n",
        "    \n",
        "    # puts the image data in memory buffer\n",
        "    image_data = BytesIO(image_data)\n",
        "    \n",
        "    # opens the image\n",
        "    pil_image = Image.open(image_data)\n",
        "    \n",
        "    # resizes the image. will crop if aspect ratio is different.\n",
        "    pil_image = ImageOps.fit(pil_image, (new_width, new_height), Image.ANTIALIAS)\n",
        "    \n",
        "    # converts to the RGB colorspace\n",
        "    pil_image_rgb = pil_image.convert(\"RGB\")\n",
        "    \n",
        "    # saves the image to the temporary file created earlier\n",
        "    pil_image_rgb.save(filename, format=\"JPEG\", quality=90)\n",
        "    \n",
        "    print(\"Image downloaded to %s.\" % filename)\n",
        "    \n",
        "    return filename"
      ],
      "execution_count": 6,
      "outputs": []
    },
    {
      "cell_type": "markdown",
      "metadata": {
        "id": "r7qodEJHhCR7"
      },
      "source": [
        "### Download and preprocess an image\n",
        "\n",
        "Now, using `download_and_resize_image` you can get a sample image online and save it locally. \n",
        "- We've provided a URL for you, but feel free to choose another image to run through the object detector.\n",
        "- You can use the original width and height of the image but feel free to modify it and see what results you get."
      ]
    },
    {
      "cell_type": "code",
      "metadata": {
        "id": "xHTDalVrhCR7",
        "colab": {
          "base_uri": "https://localhost:8080/"
        },
        "outputId": "0f7c9e29-e101-4aeb-b579-e289dbc80f6a"
      },
      "source": [
        "# You can choose a different URL that points to an image of your choice\n",
        "image_url = \"https://upload.wikimedia.org/wikipedia/commons/f/fb/20130807_dublin014.JPG\"\n",
        "\n",
        "# download the image and use the original height and width\n",
        "downloaded_image_path = download_and_resize_image(image_url, 3872, 2592)"
      ],
      "execution_count": 7,
      "outputs": [
        {
          "output_type": "stream",
          "name": "stdout",
          "text": [
            "Image downloaded to /tmp/tmpat1x7r89.jpg.\n"
          ]
        }
      ]
    },
    {
      "cell_type": "markdown",
      "metadata": {
        "id": "IVNXUKMIhCR7"
      },
      "source": [
        "### run_detector\n",
        "\n",
        "This function will take in the object detection model `detector` and the path to a sample image, then use this model to detect objects and display its predicted class categories and detection boxes.\n",
        "- run_detector uses `load_image` to convert the image into a tensor."
      ]
    },
    {
      "cell_type": "code",
      "metadata": {
        "id": "wkkiQzKlhCR7"
      },
      "source": [
        "def load_img(path):\n",
        "    '''\n",
        "    Loads a JPEG image and converts it to a tensor.\n",
        "    \n",
        "    Args:\n",
        "        path (string) -- path to a locally saved JPEG image\n",
        "    \n",
        "    Returns:\n",
        "        (tensor) -- an image tensor\n",
        "    '''\n",
        "    \n",
        "    # read the file\n",
        "    img = tf.io.read_file(path)\n",
        "    \n",
        "    # convert to a tensor\n",
        "    img = tf.image.decode_jpeg(img, channels=3)\n",
        "    \n",
        "    return img\n",
        "\n",
        "\n",
        "def run_detector(detector, path):\n",
        "    '''\n",
        "    Runs inference on a local file using an object detection model.\n",
        "    \n",
        "    Args:\n",
        "        detector (model) -- an object detection model loaded from TF Hub\n",
        "        path (string) -- path to an image saved locally\n",
        "    '''\n",
        "    \n",
        "    # load an image tensor from a local file path\n",
        "    img = load_img(path)\n",
        "\n",
        "    # add a batch dimension in front of the tensor\n",
        "    converted_img  = tf.image.convert_image_dtype(img, tf.float32)[tf.newaxis, ...]\n",
        "    \n",
        "    # run inference using the model\n",
        "    result = detector(converted_img)\n",
        "\n",
        "    # save the results in a dictionary\n",
        "    result = {key:value.numpy() for key,value in result.items()}\n",
        "\n",
        "    # print results\n",
        "    print(\"Found %d objects.\" % len(result[\"detection_scores\"]))\n",
        "\n",
        "    print(result[\"detection_scores\"])\n",
        "    print(result[\"detection_class_entities\"])\n",
        "    print(result[\"detection_boxes\"])\n"
      ],
      "execution_count": 8,
      "outputs": []
    },
    {
      "cell_type": "markdown",
      "metadata": {
        "id": "DSEeJSkxhCR7"
      },
      "source": [
        "### Run inference on the image\n",
        "\n",
        "You can run your detector by calling the `run_detector` function. This will print the number of objects found followed by three lists: \n",
        "\n",
        "* The detection scores of each object found (i.e. how confident the model is), \n",
        "* The classes of each object found, \n",
        "* The bounding boxes of each object\n",
        "\n",
        "You will see how to overlay this information on the original image in the next sections and in this week's assignment!"
      ]
    },
    {
      "cell_type": "code",
      "metadata": {
        "id": "csanHvDIz4_t",
        "colab": {
          "base_uri": "https://localhost:8080/"
        },
        "outputId": "7d510063-637f-42c7-bb1a-34e81b02fbb8"
      },
      "source": [
        "# runs the object detection model and prints information about the objects found\n",
        "run_detector(detector, downloaded_image_path)"
      ],
      "execution_count": 9,
      "outputs": [
        {
          "output_type": "stream",
          "name": "stdout",
          "text": [
            "Found 100 objects.\n",
            "[0.6532158  0.6105045  0.6015231  0.59255135 0.5917789  0.5815485\n",
            " 0.5505333  0.49575728 0.47425056 0.47322163 0.4406616  0.4051126\n",
            " 0.3980359  0.3940628  0.3714846  0.3615597  0.3615103  0.34689075\n",
            " 0.33362475 0.31253102 0.28878072 0.2575856  0.25749117 0.2519617\n",
            " 0.24781878 0.23412311 0.20431775 0.20324756 0.17988181 0.17965159\n",
            " 0.17374782 0.16431478 0.16031227 0.1589522  0.1562049  0.15468778\n",
            " 0.14754565 0.13622612 0.1274028  0.12555791 0.12102662 0.11812992\n",
            " 0.11387273 0.11229288 0.11129141 0.09718803 0.09137143 0.08975995\n",
            " 0.08880319 0.08633642 0.08337441 0.08095137 0.07988744 0.07741383\n",
            " 0.07732058 0.07631052 0.07507922 0.07386062 0.07233337 0.07203993\n",
            " 0.0711017  0.0693564  0.06825564 0.06427942 0.06248608 0.06226334\n",
            " 0.06211053 0.05940095 0.05798808 0.05784506 0.05725488 0.05346705\n",
            " 0.05304392 0.05242833 0.04892577 0.04813009 0.04578396 0.04424144\n",
            " 0.04337539 0.04277807 0.04262673 0.04163228 0.04081726 0.03976028\n",
            " 0.03946014 0.03944292 0.03864031 0.03769018 0.0375955  0.03566743\n",
            " 0.03359354 0.0333327  0.03275892 0.03231584 0.03134324 0.02978749\n",
            " 0.02858358 0.02856147 0.02822345 0.0278791 ]\n",
            "[b'Person' b'Person' b'Person' b'Person' b'Footwear' b'Person' b'Building'\n",
            " b'Bicycle' b'Window' b'Building' b'Person' b'Wheel' b'Building'\n",
            " b'Building' b'Person' b'Wheel' b'Building' b'Window' b'Window'\n",
            " b'Building' b'Person' b'Van' b'Person' b'Bicycle wheel' b'Person'\n",
            " b'Window' b'Window' b'Bicycle' b'Building' b'Window' b'Window' b'Man'\n",
            " b'Person' b'Person' b'Woman' b'Clothing' b'Bicycle wheel' b'Window'\n",
            " b'Person' b'Window' b'Land vehicle' b'Land vehicle' b'Clothing'\n",
            " b'Bicycle' b'Window' b'House' b'Land vehicle' b'Land vehicle' b'House'\n",
            " b'Man' b'Window' b'Clothing' b'Footwear' b'Person' b'Window' b'Man'\n",
            " b'Man' b'House' b'Person' b'Building' b'Clothing' b'Window' b'Person'\n",
            " b'Jeans' b'Man' b'Furniture' b'Person' b'Person' b'Person'\n",
            " b'Land vehicle' b'Person' b'Window' b'House' b'Woman' b'Window' b'Man'\n",
            " b'Person' b'Man' b'Clothing' b'Bicycle' b'Man' b'Person' b'Window'\n",
            " b'Person' b'Car' b'Man' b'Car' b'Chair' b'House' b'Window' b'Clothing'\n",
            " b'Tire' b'Clothing' b'Window' b'Land vehicle' b'Window' b'Man' b'Window'\n",
            " b'Bus' b'Clothing']\n",
            "[[5.12787819e-01 5.29258847e-01 6.01622581e-01 5.52077651e-01]\n",
            " [5.19631088e-01 6.01512730e-01 6.46177113e-01 6.34626746e-01]\n",
            " [5.05507112e-01 5.00440836e-01 6.01288438e-01 5.23084342e-01]\n",
            " [4.86331582e-01 4.12729561e-01 6.78829789e-01 4.59919751e-01]\n",
            " [8.15191388e-01 9.56122220e-01 8.42702985e-01 9.87146080e-01]\n",
            " [4.95409906e-01 9.23548341e-01 8.35687935e-01 9.99051571e-01]\n",
            " [1.14792380e-02 1.22224102e-02 7.38669813e-01 4.24632847e-01]\n",
            " [5.77677488e-01 3.66453379e-01 7.12771654e-01 4.83375698e-01]\n",
            " [0.00000000e+00 1.19262360e-01 2.23896101e-01 1.83930472e-01]\n",
            " [7.74121135e-02 4.12998140e-01 5.79540014e-01 5.60446203e-01]\n",
            " [5.13818145e-01 7.48031378e-01 5.91993213e-01 7.66611278e-01]\n",
            " [6.32137895e-01 3.59925479e-01 7.03870296e-01 4.11826164e-01]\n",
            " [0.00000000e+00 7.97051966e-01 6.73368454e-01 1.00000000e+00]\n",
            " [1.60233825e-02 6.84869587e-01 5.58761597e-01 8.11167955e-01]\n",
            " [5.00276983e-01 3.76966298e-01 6.33272946e-01 4.14501339e-01]\n",
            " [6.40540302e-01 4.45089400e-01 7.02983558e-01 4.83437657e-01]\n",
            " [0.00000000e+00 2.19054237e-01 6.60401046e-01 4.33263451e-01]\n",
            " [1.93079631e-03 0.00000000e+00 1.39376849e-01 2.62956955e-02]\n",
            " [2.57204054e-03 9.66668487e-01 1.53728724e-01 1.00000000e+00]\n",
            " [5.57200110e-04 1.52056559e-03 7.65210569e-01 2.69977152e-01]\n",
            " [5.04524827e-01 3.61187756e-01 6.34731770e-01 3.85342211e-01]\n",
            " [4.83405828e-01 6.19650841e-01 5.62705755e-01 6.61556125e-01]\n",
            " [4.98067319e-01 3.64576221e-01 6.61239445e-01 4.04972374e-01]\n",
            " [6.31278813e-01 3.60364169e-01 7.04153776e-01 4.11501348e-01]\n",
            " [5.21813869e-01 5.77647507e-01 5.87599933e-01 6.00718915e-01]\n",
            " [2.19569579e-01 3.48744810e-01 3.38372648e-01 3.77075404e-01]\n",
            " [1.24863081e-01 2.50912935e-01 2.79940903e-01 2.81580776e-01]\n",
            " [5.77186048e-01 3.62296700e-01 7.07020819e-01 4.41810936e-01]\n",
            " [2.57474422e-01 5.67561567e-01 5.31102955e-01 6.87727273e-01]\n",
            " [4.20639366e-02 8.74773145e-01 2.52773494e-01 9.13028836e-01]\n",
            " [1.56351045e-01 4.43401128e-01 2.22213224e-01 4.75786120e-01]\n",
            " [5.01967967e-01 9.21486855e-01 8.36406767e-01 1.00000000e+00]\n",
            " [5.23622572e-01 5.70259511e-01 5.84519565e-01 5.91583431e-01]\n",
            " [5.13246477e-01 6.79276526e-01 5.50994456e-01 6.92579985e-01]\n",
            " [5.19120216e-01 5.99985421e-01 6.46378398e-01 6.34036481e-01]\n",
            " [5.24297774e-01 9.24962044e-01 8.10777128e-01 9.97999549e-01]\n",
            " [6.38187289e-01 4.42918181e-01 7.01653838e-01 4.84097779e-01]\n",
            " [3.42190377e-02 3.55574727e-01 1.62255079e-01 3.74921173e-01]\n",
            " [4.88476664e-01 4.53496993e-01 6.21795475e-01 4.79725748e-01]\n",
            " [9.28799331e-04 3.07699054e-01 1.06533386e-01 3.32059622e-01]\n",
            " [4.83008981e-01 6.19908273e-01 5.64775169e-01 6.60696924e-01]\n",
            " [5.82192898e-01 3.64929765e-01 7.13880718e-01 4.84707862e-01]\n",
            " [5.23547709e-01 7.49199331e-01 5.85378110e-01 7.65317559e-01]\n",
            " [6.09156787e-01 4.26705867e-01 7.05165207e-01 4.87089038e-01]\n",
            " [3.51368606e-01 9.74856079e-01 5.53130686e-01 9.98878717e-01]\n",
            " [0.00000000e+00 8.11223328e-01 6.86410725e-01 9.97151434e-01]\n",
            " [5.76297641e-01 3.57461810e-01 7.04812348e-01 4.40279722e-01]\n",
            " [5.64892411e-01 3.63023102e-01 7.08650291e-01 4.16036338e-01]\n",
            " [1.09375510e-02 2.33155508e-02 7.26522982e-01 4.21747774e-01]\n",
            " [4.84686643e-01 4.10686046e-01 6.94686472e-01 4.63092834e-01]\n",
            " [8.09777454e-02 3.84715289e-01 2.07808733e-01 4.11746383e-01]\n",
            " [5.38284421e-01 6.03573680e-01 6.34776115e-01 6.34408593e-01]\n",
            " [6.29844606e-01 6.14971459e-01 6.44933522e-01 6.25384331e-01]\n",
            " [5.02758026e-01 3.82395953e-01 5.96146226e-01 4.12722319e-01]\n",
            " [0.00000000e+00 1.24522978e-02 1.40193492e-01 2.47382112e-02]\n",
            " [5.14441431e-01 7.47791529e-01 5.91985822e-01 7.66827404e-01]\n",
            " [5.06182134e-01 5.00406921e-01 6.00681424e-01 5.23312032e-01]\n",
            " [0.00000000e+00 2.11283535e-01 6.50794148e-01 4.34300780e-01]\n",
            " [4.89451557e-01 4.54391271e-01 5.72340131e-01 4.76470798e-01]\n",
            " [0.00000000e+00 7.06215978e-01 6.16998792e-01 8.66189778e-01]\n",
            " [5.09172916e-01 4.16281193e-01 6.69304490e-01 4.59598720e-01]\n",
            " [4.65170573e-03 8.03094208e-01 1.59853578e-01 8.40397060e-01]\n",
            " [5.26151001e-01 5.68352938e-01 5.79440355e-01 5.82810223e-01]\n",
            " [6.71924829e-01 9.40277696e-01 8.21276009e-01 9.89250779e-01]\n",
            " [5.02770185e-01 3.73883098e-01 6.46991491e-01 4.12972301e-01]\n",
            " [5.74243903e-01 2.67400891e-01 6.57769084e-01 3.20318580e-01]\n",
            " [4.86056775e-01 4.44508791e-01 6.24788880e-01 4.73503351e-01]\n",
            " [5.17248988e-01 7.56969213e-01 5.88517189e-01 7.71465480e-01]\n",
            " [5.23374975e-01 5.57850122e-01 5.79139531e-01 5.73541522e-01]\n",
            " [6.12461030e-01 4.27332461e-01 7.06080198e-01 4.88251865e-01]\n",
            " [5.24124086e-01 5.61553180e-01 5.78385353e-01 5.80475152e-01]\n",
            " [0.00000000e+00 2.44231775e-01 6.07754774e-02 2.93613434e-01]\n",
            " [1.48920957e-02 2.14739377e-03 7.45442033e-01 2.59790719e-01]\n",
            " [4.93236154e-01 9.23950195e-01 8.37110877e-01 9.97755051e-01]\n",
            " [8.37684982e-03 2.42165729e-01 4.97285202e-02 2.83162564e-01]\n",
            " [5.05334914e-01 3.60175252e-01 6.43561006e-01 3.91461760e-01]\n",
            " [5.13099134e-01 5.23794115e-01 6.00504339e-01 5.42968035e-01]\n",
            " [5.20421386e-01 6.00978673e-01 6.46124065e-01 6.34366393e-01]\n",
            " [5.18224835e-01 5.03395557e-01 5.97548604e-01 5.22683859e-01]\n",
            " [5.94199121e-01 3.61327976e-01 7.05465913e-01 4.15853351e-01]\n",
            " [5.13256431e-01 6.79317057e-01 5.50533950e-01 6.92482233e-01]\n",
            " [5.22302687e-01 5.36195457e-01 5.97564995e-01 5.53163230e-01]\n",
            " [4.29876298e-01 8.28702271e-01 5.89928210e-01 8.64323139e-01]\n",
            " [5.04884601e-01 3.89427036e-01 6.15080714e-01 4.19936091e-01]\n",
            " [5.26588559e-01 6.27176881e-01 5.63299775e-01 6.53728902e-01]\n",
            " [5.01304924e-01 3.64189029e-01 6.59964740e-01 4.03793275e-01]\n",
            " [5.15171230e-01 6.24104798e-01 5.63795388e-01 6.58002079e-01]\n",
            " [5.73137939e-01 2.66902655e-01 6.66162014e-01 3.18640232e-01]\n",
            " [8.34235400e-02 4.07414377e-01 5.84092498e-01 5.58522940e-01]\n",
            " [2.88196921e-01 4.77988826e-04 4.14364636e-01 3.65995765e-02]\n",
            " [4.97272819e-01 4.55296665e-01 5.83817184e-01 4.77936029e-01]\n",
            " [6.27168000e-01 3.61024052e-01 7.05996811e-01 4.09780174e-01]\n",
            " [5.15861034e-01 3.80056977e-01 5.96893847e-01 4.11758274e-01]\n",
            " [1.18097821e-02 3.08121800e-01 9.72859561e-02 3.25038970e-01]\n",
            " [5.12501776e-01 6.23653412e-01 5.62422156e-01 6.57641828e-01]\n",
            " [4.01003152e-01 8.85088921e-01 5.81281662e-01 9.39214408e-01]\n",
            " [5.13853252e-01 5.29484570e-01 6.02009714e-01 5.52362800e-01]\n",
            " [0.00000000e+00 1.00606112e-02 1.36156827e-01 3.16007249e-02]\n",
            " [4.80426341e-01 6.20422781e-01 5.65284550e-01 6.60150409e-01]\n",
            " [5.19355476e-01 3.61840397e-01 6.24995410e-01 3.84919673e-01]]\n"
          ]
        }
      ]
    }
  ]
}